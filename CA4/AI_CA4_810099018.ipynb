{
 "cells": [
  {
   "cell_type": "markdown",
   "metadata": {
    "id": "vnGIL4nWagEw"
   },
   "source": [
    "#  AI CA4\n",
    "# Data Processing and Machine Learning\n",
    "## Name: Fatemeh Naeinian\n",
    "\n",
    "### Student ID: 810099018\n"
   ]
  },
  {
   "cell_type": "markdown",
   "metadata": {
    "id": "ORJiJn5nbS-I"
   },
   "source": [
    "## Definition of project:\n",
    "This project is an introduction to machine learning.\n",
    "We will use KNN, Decision Tree, Random Forest, and Logistic regression classifier with scikit learn library, then we will optimize accuracy with grid search."
   ]
  },
  {
   "cell_type": "code",
   "execution_count": 88,
   "metadata": {
    "id": "XHUM62pksIWg"
   },
   "outputs": [],
   "source": [
    "import pandas as pd\n",
    "import matplotlib.pyplot as plt\n",
    "import seaborn as sns\n",
    "import numpy as np\n",
    "import warnings\n",
    "warnings.filterwarnings('ignore')\n",
    "from sklearn.preprocessing import StandardScaler\n",
    "\n",
    "from sklearn.metrics import accuracy_score, confusion_matrix, classification_report\n",
    "from sklearn.model_selection import train_test_split\n",
    "from sklearn.tree import DecisionTreeClassifier\n",
    "from sklearn.model_selection import GridSearchCV\n",
    "from sklearn.ensemble import RandomForestClassifier\n",
    "from sklearn.neighbors import KNeighborsClassifier\n",
    "from sklearn.linear_model import LogisticRegression\n",
    "\n",
    "from sklearn.metrics import classification_report\n",
    "from sklearn import metrics\n",
    "from sklearn.metrics import precision_score , recall_score, f1_score, accuracy_score, confusion_matrix"
   ]
  },
  {
   "cell_type": "code",
   "execution_count": 89,
   "metadata": {
    "colab": {
     "base_uri": "https://localhost:8080/"
    },
    "id": "Kk0J7K4xsH9H",
    "outputId": "23f38461-e759-4ff5-9b18-786b57ae970a"
   },
   "outputs": [
    {
     "name": "stdout",
     "output_type": "stream",
     "text": [
      "Mounted at /content/gdrive\n"
     ]
    }
   ],
   "source": [
    "from google.colab import drive\n",
    "\n",
    "drive.mount('/content/gdrive', force_remount=True)"
   ]
  },
  {
   "cell_type": "code",
   "execution_count": 90,
   "metadata": {
    "id": "g8QZlAlsrkGs"
   },
   "outputs": [],
   "source": [
    "df = pd.read_csv('/content/gdrive/MyDrive/diabetes.csv')"
   ]
  },
  {
   "cell_type": "code",
   "execution_count": 91,
   "metadata": {
    "colab": {
     "base_uri": "https://localhost:8080/",
     "height": 270
    },
    "id": "FdRbMxMksdr3",
    "outputId": "30849b2c-4276-4a1e-ba7c-97a8558d839e"
   },
   "outputs": [
    {
     "data": {
      "text/html": [
       "\n",
       "  <div id=\"df-66e300e8-5fad-4cba-8001-c0222e38a435\">\n",
       "    <div class=\"colab-df-container\">\n",
       "      <div>\n",
       "<style scoped>\n",
       "    .dataframe tbody tr th:only-of-type {\n",
       "        vertical-align: middle;\n",
       "    }\n",
       "\n",
       "    .dataframe tbody tr th {\n",
       "        vertical-align: top;\n",
       "    }\n",
       "\n",
       "    .dataframe thead th {\n",
       "        text-align: right;\n",
       "    }\n",
       "</style>\n",
       "<table border=\"1\" class=\"dataframe\">\n",
       "  <thead>\n",
       "    <tr style=\"text-align: right;\">\n",
       "      <th></th>\n",
       "      <th>Pregnancies</th>\n",
       "      <th>Glucose</th>\n",
       "      <th>BloodPressure</th>\n",
       "      <th>SkinThickness</th>\n",
       "      <th>Insulin</th>\n",
       "      <th>BMI</th>\n",
       "      <th>DiabetesPedigreeFunction</th>\n",
       "      <th>Age</th>\n",
       "      <th>Outcome</th>\n",
       "    </tr>\n",
       "  </thead>\n",
       "  <tbody>\n",
       "    <tr>\n",
       "      <th>0</th>\n",
       "      <td>6.0</td>\n",
       "      <td>148.0</td>\n",
       "      <td>72.0</td>\n",
       "      <td>35.0</td>\n",
       "      <td>0.0</td>\n",
       "      <td>33.6</td>\n",
       "      <td>0.627</td>\n",
       "      <td>50.0</td>\n",
       "      <td>1</td>\n",
       "    </tr>\n",
       "    <tr>\n",
       "      <th>1</th>\n",
       "      <td>1.0</td>\n",
       "      <td>85.0</td>\n",
       "      <td>66.0</td>\n",
       "      <td>29.0</td>\n",
       "      <td>0.0</td>\n",
       "      <td>26.6</td>\n",
       "      <td>0.351</td>\n",
       "      <td>31.0</td>\n",
       "      <td>0</td>\n",
       "    </tr>\n",
       "    <tr>\n",
       "      <th>2</th>\n",
       "      <td>NaN</td>\n",
       "      <td>183.0</td>\n",
       "      <td>64.0</td>\n",
       "      <td>0.0</td>\n",
       "      <td>0.0</td>\n",
       "      <td>23.3</td>\n",
       "      <td>0.672</td>\n",
       "      <td>32.0</td>\n",
       "      <td>1</td>\n",
       "    </tr>\n",
       "    <tr>\n",
       "      <th>3</th>\n",
       "      <td>1.0</td>\n",
       "      <td>89.0</td>\n",
       "      <td>66.0</td>\n",
       "      <td>23.0</td>\n",
       "      <td>94.0</td>\n",
       "      <td>28.1</td>\n",
       "      <td>0.167</td>\n",
       "      <td>21.0</td>\n",
       "      <td>0</td>\n",
       "    </tr>\n",
       "    <tr>\n",
       "      <th>4</th>\n",
       "      <td>NaN</td>\n",
       "      <td>137.0</td>\n",
       "      <td>40.0</td>\n",
       "      <td>35.0</td>\n",
       "      <td>168.0</td>\n",
       "      <td>NaN</td>\n",
       "      <td>NaN</td>\n",
       "      <td>33.0</td>\n",
       "      <td>1</td>\n",
       "    </tr>\n",
       "  </tbody>\n",
       "</table>\n",
       "</div>\n",
       "      <button class=\"colab-df-convert\" onclick=\"convertToInteractive('df-66e300e8-5fad-4cba-8001-c0222e38a435')\"\n",
       "              title=\"Convert this dataframe to an interactive table.\"\n",
       "              style=\"display:none;\">\n",
       "        \n",
       "  <svg xmlns=\"http://www.w3.org/2000/svg\" height=\"24px\"viewBox=\"0 0 24 24\"\n",
       "       width=\"24px\">\n",
       "    <path d=\"M0 0h24v24H0V0z\" fill=\"none\"/>\n",
       "    <path d=\"M18.56 5.44l.94 2.06.94-2.06 2.06-.94-2.06-.94-.94-2.06-.94 2.06-2.06.94zm-11 1L8.5 8.5l.94-2.06 2.06-.94-2.06-.94L8.5 2.5l-.94 2.06-2.06.94zm10 10l.94 2.06.94-2.06 2.06-.94-2.06-.94-.94-2.06-.94 2.06-2.06.94z\"/><path d=\"M17.41 7.96l-1.37-1.37c-.4-.4-.92-.59-1.43-.59-.52 0-1.04.2-1.43.59L10.3 9.45l-7.72 7.72c-.78.78-.78 2.05 0 2.83L4 21.41c.39.39.9.59 1.41.59.51 0 1.02-.2 1.41-.59l7.78-7.78 2.81-2.81c.8-.78.8-2.07 0-2.86zM5.41 20L4 18.59l7.72-7.72 1.47 1.35L5.41 20z\"/>\n",
       "  </svg>\n",
       "      </button>\n",
       "      \n",
       "  <style>\n",
       "    .colab-df-container {\n",
       "      display:flex;\n",
       "      flex-wrap:wrap;\n",
       "      gap: 12px;\n",
       "    }\n",
       "\n",
       "    .colab-df-convert {\n",
       "      background-color: #E8F0FE;\n",
       "      border: none;\n",
       "      border-radius: 50%;\n",
       "      cursor: pointer;\n",
       "      display: none;\n",
       "      fill: #1967D2;\n",
       "      height: 32px;\n",
       "      padding: 0 0 0 0;\n",
       "      width: 32px;\n",
       "    }\n",
       "\n",
       "    .colab-df-convert:hover {\n",
       "      background-color: #E2EBFA;\n",
       "      box-shadow: 0px 1px 2px rgba(60, 64, 67, 0.3), 0px 1px 3px 1px rgba(60, 64, 67, 0.15);\n",
       "      fill: #174EA6;\n",
       "    }\n",
       "\n",
       "    [theme=dark] .colab-df-convert {\n",
       "      background-color: #3B4455;\n",
       "      fill: #D2E3FC;\n",
       "    }\n",
       "\n",
       "    [theme=dark] .colab-df-convert:hover {\n",
       "      background-color: #434B5C;\n",
       "      box-shadow: 0px 1px 3px 1px rgba(0, 0, 0, 0.15);\n",
       "      filter: drop-shadow(0px 1px 2px rgba(0, 0, 0, 0.3));\n",
       "      fill: #FFFFFF;\n",
       "    }\n",
       "  </style>\n",
       "\n",
       "      <script>\n",
       "        const buttonEl =\n",
       "          document.querySelector('#df-66e300e8-5fad-4cba-8001-c0222e38a435 button.colab-df-convert');\n",
       "        buttonEl.style.display =\n",
       "          google.colab.kernel.accessAllowed ? 'block' : 'none';\n",
       "\n",
       "        async function convertToInteractive(key) {\n",
       "          const element = document.querySelector('#df-66e300e8-5fad-4cba-8001-c0222e38a435');\n",
       "          const dataTable =\n",
       "            await google.colab.kernel.invokeFunction('convertToInteractive',\n",
       "                                                     [key], {});\n",
       "          if (!dataTable) return;\n",
       "\n",
       "          const docLinkHtml = 'Like what you see? Visit the ' +\n",
       "            '<a target=\"_blank\" href=https://colab.research.google.com/notebooks/data_table.ipynb>data table notebook</a>'\n",
       "            + ' to learn more about interactive tables.';\n",
       "          element.innerHTML = '';\n",
       "          dataTable['output_type'] = 'display_data';\n",
       "          await google.colab.output.renderOutput(dataTable, element);\n",
       "          const docLink = document.createElement('div');\n",
       "          docLink.innerHTML = docLinkHtml;\n",
       "          element.appendChild(docLink);\n",
       "        }\n",
       "      </script>\n",
       "    </div>\n",
       "  </div>\n",
       "  "
      ],
      "text/plain": [
       "   Pregnancies  Glucose  BloodPressure  SkinThickness  Insulin   BMI  \\\n",
       "0          6.0    148.0           72.0           35.0      0.0  33.6   \n",
       "1          1.0     85.0           66.0           29.0      0.0  26.6   \n",
       "2          NaN    183.0           64.0            0.0      0.0  23.3   \n",
       "3          1.0     89.0           66.0           23.0     94.0  28.1   \n",
       "4          NaN    137.0           40.0           35.0    168.0   NaN   \n",
       "\n",
       "   DiabetesPedigreeFunction   Age  Outcome  \n",
       "0                     0.627  50.0        1  \n",
       "1                     0.351  31.0        0  \n",
       "2                     0.672  32.0        1  \n",
       "3                     0.167  21.0        0  \n",
       "4                       NaN  33.0        1  "
      ]
     },
     "execution_count": 91,
     "metadata": {},
     "output_type": "execute_result"
    }
   ],
   "source": [
    "df.head()"
   ]
  },
  {
   "cell_type": "markdown",
   "metadata": {
    "id": "PEAhxmYYeCm7"
   },
   "source": [
    "## EDA\n",
    "**1.** The describe() method os used for calculating some statistical information for numerical columns.\n",
    "The info() is used to get information about data types, memory and number of data for each column.\n"
   ]
  },
  {
   "cell_type": "code",
   "execution_count": 92,
   "metadata": {
    "colab": {
     "base_uri": "https://localhost:8080/",
     "height": 364
    },
    "id": "pR3bAGLhtroB",
    "outputId": "2ed24462-31ba-4835-ea30-f264102fac47"
   },
   "outputs": [
    {
     "data": {
      "text/html": [
       "\n",
       "  <div id=\"df-0ed7c3ad-6fc1-44e8-b117-a71e2c7b6f56\">\n",
       "    <div class=\"colab-df-container\">\n",
       "      <div>\n",
       "<style scoped>\n",
       "    .dataframe tbody tr th:only-of-type {\n",
       "        vertical-align: middle;\n",
       "    }\n",
       "\n",
       "    .dataframe tbody tr th {\n",
       "        vertical-align: top;\n",
       "    }\n",
       "\n",
       "    .dataframe thead th {\n",
       "        text-align: right;\n",
       "    }\n",
       "</style>\n",
       "<table border=\"1\" class=\"dataframe\">\n",
       "  <thead>\n",
       "    <tr style=\"text-align: right;\">\n",
       "      <th></th>\n",
       "      <th>Pregnancies</th>\n",
       "      <th>Glucose</th>\n",
       "      <th>BloodPressure</th>\n",
       "      <th>SkinThickness</th>\n",
       "      <th>Insulin</th>\n",
       "      <th>BMI</th>\n",
       "      <th>DiabetesPedigreeFunction</th>\n",
       "      <th>Age</th>\n",
       "      <th>Outcome</th>\n",
       "    </tr>\n",
       "  </thead>\n",
       "  <tbody>\n",
       "    <tr>\n",
       "      <th>count</th>\n",
       "      <td>635.000000</td>\n",
       "      <td>654.000000</td>\n",
       "      <td>680.000000</td>\n",
       "      <td>624.000000</td>\n",
       "      <td>680.000000</td>\n",
       "      <td>684.000000</td>\n",
       "      <td>590.000000</td>\n",
       "      <td>655.000000</td>\n",
       "      <td>768.000000</td>\n",
       "    </tr>\n",
       "    <tr>\n",
       "      <th>mean</th>\n",
       "      <td>3.700787</td>\n",
       "      <td>113.422018</td>\n",
       "      <td>68.786765</td>\n",
       "      <td>20.386218</td>\n",
       "      <td>80.123529</td>\n",
       "      <td>32.083626</td>\n",
       "      <td>0.466676</td>\n",
       "      <td>33.157252</td>\n",
       "      <td>0.348958</td>\n",
       "    </tr>\n",
       "    <tr>\n",
       "      <th>std</th>\n",
       "      <td>3.518126</td>\n",
       "      <td>202.816831</td>\n",
       "      <td>19.724841</td>\n",
       "      <td>15.987049</td>\n",
       "      <td>115.681140</td>\n",
       "      <td>7.800741</td>\n",
       "      <td>0.322408</td>\n",
       "      <td>13.829831</td>\n",
       "      <td>0.476951</td>\n",
       "    </tr>\n",
       "    <tr>\n",
       "      <th>min</th>\n",
       "      <td>-22.000000</td>\n",
       "      <td>-5000.000000</td>\n",
       "      <td>-2.000000</td>\n",
       "      <td>0.000000</td>\n",
       "      <td>0.000000</td>\n",
       "      <td>0.000000</td>\n",
       "      <td>0.078000</td>\n",
       "      <td>-150.000000</td>\n",
       "      <td>0.000000</td>\n",
       "    </tr>\n",
       "    <tr>\n",
       "      <th>25%</th>\n",
       "      <td>1.000000</td>\n",
       "      <td>99.000000</td>\n",
       "      <td>62.000000</td>\n",
       "      <td>0.000000</td>\n",
       "      <td>0.000000</td>\n",
       "      <td>27.375000</td>\n",
       "      <td>0.243250</td>\n",
       "      <td>24.000000</td>\n",
       "      <td>0.000000</td>\n",
       "    </tr>\n",
       "    <tr>\n",
       "      <th>50%</th>\n",
       "      <td>3.000000</td>\n",
       "      <td>117.000000</td>\n",
       "      <td>72.000000</td>\n",
       "      <td>23.000000</td>\n",
       "      <td>34.000000</td>\n",
       "      <td>32.300000</td>\n",
       "      <td>0.368000</td>\n",
       "      <td>29.000000</td>\n",
       "      <td>0.000000</td>\n",
       "    </tr>\n",
       "    <tr>\n",
       "      <th>75%</th>\n",
       "      <td>6.000000</td>\n",
       "      <td>140.750000</td>\n",
       "      <td>80.000000</td>\n",
       "      <td>32.000000</td>\n",
       "      <td>129.250000</td>\n",
       "      <td>36.600000</td>\n",
       "      <td>0.611500</td>\n",
       "      <td>41.000000</td>\n",
       "      <td>1.000000</td>\n",
       "    </tr>\n",
       "    <tr>\n",
       "      <th>max</th>\n",
       "      <td>17.000000</td>\n",
       "      <td>199.000000</td>\n",
       "      <td>122.000000</td>\n",
       "      <td>99.000000</td>\n",
       "      <td>846.000000</td>\n",
       "      <td>67.100000</td>\n",
       "      <td>2.329000</td>\n",
       "      <td>81.000000</td>\n",
       "      <td>1.000000</td>\n",
       "    </tr>\n",
       "  </tbody>\n",
       "</table>\n",
       "</div>\n",
       "      <button class=\"colab-df-convert\" onclick=\"convertToInteractive('df-0ed7c3ad-6fc1-44e8-b117-a71e2c7b6f56')\"\n",
       "              title=\"Convert this dataframe to an interactive table.\"\n",
       "              style=\"display:none;\">\n",
       "        \n",
       "  <svg xmlns=\"http://www.w3.org/2000/svg\" height=\"24px\"viewBox=\"0 0 24 24\"\n",
       "       width=\"24px\">\n",
       "    <path d=\"M0 0h24v24H0V0z\" fill=\"none\"/>\n",
       "    <path d=\"M18.56 5.44l.94 2.06.94-2.06 2.06-.94-2.06-.94-.94-2.06-.94 2.06-2.06.94zm-11 1L8.5 8.5l.94-2.06 2.06-.94-2.06-.94L8.5 2.5l-.94 2.06-2.06.94zm10 10l.94 2.06.94-2.06 2.06-.94-2.06-.94-.94-2.06-.94 2.06-2.06.94z\"/><path d=\"M17.41 7.96l-1.37-1.37c-.4-.4-.92-.59-1.43-.59-.52 0-1.04.2-1.43.59L10.3 9.45l-7.72 7.72c-.78.78-.78 2.05 0 2.83L4 21.41c.39.39.9.59 1.41.59.51 0 1.02-.2 1.41-.59l7.78-7.78 2.81-2.81c.8-.78.8-2.07 0-2.86zM5.41 20L4 18.59l7.72-7.72 1.47 1.35L5.41 20z\"/>\n",
       "  </svg>\n",
       "      </button>\n",
       "      \n",
       "  <style>\n",
       "    .colab-df-container {\n",
       "      display:flex;\n",
       "      flex-wrap:wrap;\n",
       "      gap: 12px;\n",
       "    }\n",
       "\n",
       "    .colab-df-convert {\n",
       "      background-color: #E8F0FE;\n",
       "      border: none;\n",
       "      border-radius: 50%;\n",
       "      cursor: pointer;\n",
       "      display: none;\n",
       "      fill: #1967D2;\n",
       "      height: 32px;\n",
       "      padding: 0 0 0 0;\n",
       "      width: 32px;\n",
       "    }\n",
       "\n",
       "    .colab-df-convert:hover {\n",
       "      background-color: #E2EBFA;\n",
       "      box-shadow: 0px 1px 2px rgba(60, 64, 67, 0.3), 0px 1px 3px 1px rgba(60, 64, 67, 0.15);\n",
       "      fill: #174EA6;\n",
       "    }\n",
       "\n",
       "    [theme=dark] .colab-df-convert {\n",
       "      background-color: #3B4455;\n",
       "      fill: #D2E3FC;\n",
       "    }\n",
       "\n",
       "    [theme=dark] .colab-df-convert:hover {\n",
       "      background-color: #434B5C;\n",
       "      box-shadow: 0px 1px 3px 1px rgba(0, 0, 0, 0.15);\n",
       "      filter: drop-shadow(0px 1px 2px rgba(0, 0, 0, 0.3));\n",
       "      fill: #FFFFFF;\n",
       "    }\n",
       "  </style>\n",
       "\n",
       "      <script>\n",
       "        const buttonEl =\n",
       "          document.querySelector('#df-0ed7c3ad-6fc1-44e8-b117-a71e2c7b6f56 button.colab-df-convert');\n",
       "        buttonEl.style.display =\n",
       "          google.colab.kernel.accessAllowed ? 'block' : 'none';\n",
       "\n",
       "        async function convertToInteractive(key) {\n",
       "          const element = document.querySelector('#df-0ed7c3ad-6fc1-44e8-b117-a71e2c7b6f56');\n",
       "          const dataTable =\n",
       "            await google.colab.kernel.invokeFunction('convertToInteractive',\n",
       "                                                     [key], {});\n",
       "          if (!dataTable) return;\n",
       "\n",
       "          const docLinkHtml = 'Like what you see? Visit the ' +\n",
       "            '<a target=\"_blank\" href=https://colab.research.google.com/notebooks/data_table.ipynb>data table notebook</a>'\n",
       "            + ' to learn more about interactive tables.';\n",
       "          element.innerHTML = '';\n",
       "          dataTable['output_type'] = 'display_data';\n",
       "          await google.colab.output.renderOutput(dataTable, element);\n",
       "          const docLink = document.createElement('div');\n",
       "          docLink.innerHTML = docLinkHtml;\n",
       "          element.appendChild(docLink);\n",
       "        }\n",
       "      </script>\n",
       "    </div>\n",
       "  </div>\n",
       "  "
      ],
      "text/plain": [
       "       Pregnancies      Glucose  BloodPressure  SkinThickness     Insulin  \\\n",
       "count   635.000000   654.000000     680.000000     624.000000  680.000000   \n",
       "mean      3.700787   113.422018      68.786765      20.386218   80.123529   \n",
       "std       3.518126   202.816831      19.724841      15.987049  115.681140   \n",
       "min     -22.000000 -5000.000000      -2.000000       0.000000    0.000000   \n",
       "25%       1.000000    99.000000      62.000000       0.000000    0.000000   \n",
       "50%       3.000000   117.000000      72.000000      23.000000   34.000000   \n",
       "75%       6.000000   140.750000      80.000000      32.000000  129.250000   \n",
       "max      17.000000   199.000000     122.000000      99.000000  846.000000   \n",
       "\n",
       "              BMI  DiabetesPedigreeFunction         Age     Outcome  \n",
       "count  684.000000                590.000000  655.000000  768.000000  \n",
       "mean    32.083626                  0.466676   33.157252    0.348958  \n",
       "std      7.800741                  0.322408   13.829831    0.476951  \n",
       "min      0.000000                  0.078000 -150.000000    0.000000  \n",
       "25%     27.375000                  0.243250   24.000000    0.000000  \n",
       "50%     32.300000                  0.368000   29.000000    0.000000  \n",
       "75%     36.600000                  0.611500   41.000000    1.000000  \n",
       "max     67.100000                  2.329000   81.000000    1.000000  "
      ]
     },
     "execution_count": 92,
     "metadata": {},
     "output_type": "execute_result"
    }
   ],
   "source": [
    "df.describe()"
   ]
  },
  {
   "cell_type": "code",
   "execution_count": 93,
   "metadata": {
    "colab": {
     "base_uri": "https://localhost:8080/"
    },
    "id": "_EyDhEQOtzmi",
    "outputId": "efb30f93-5b5a-4eb5-ce0d-8653b77aab25"
   },
   "outputs": [
    {
     "name": "stdout",
     "output_type": "stream",
     "text": [
      "<class 'pandas.core.frame.DataFrame'>\n",
      "RangeIndex: 768 entries, 0 to 767\n",
      "Data columns (total 9 columns):\n",
      " #   Column                    Non-Null Count  Dtype  \n",
      "---  ------                    --------------  -----  \n",
      " 0   Pregnancies               635 non-null    float64\n",
      " 1   Glucose                   654 non-null    float64\n",
      " 2   BloodPressure             680 non-null    float64\n",
      " 3   SkinThickness             624 non-null    float64\n",
      " 4   Insulin                   680 non-null    float64\n",
      " 5   BMI                       684 non-null    float64\n",
      " 6   DiabetesPedigreeFunction  590 non-null    float64\n",
      " 7   Age                       655 non-null    float64\n",
      " 8   Outcome                   768 non-null    int64  \n",
      "dtypes: float64(8), int64(1)\n",
      "memory usage: 54.1 KB\n"
     ]
    }
   ],
   "source": [
    "df.info()"
   ]
  },
  {
   "cell_type": "markdown",
   "metadata": {
    "id": "A77iWC0VuCT3"
   },
   "source": [
    "**2.** The isna() method return true when a data is missing. So, with claculating summation of this method, we can find numbe of missing values for each column."
   ]
  },
  {
   "cell_type": "code",
   "execution_count": 94,
   "metadata": {
    "colab": {
     "base_uri": "https://localhost:8080/"
    },
    "id": "Lpie8Ampt1JI",
    "outputId": "7bde7c3f-d058-42e5-ce98-d3958a6de454"
   },
   "outputs": [
    {
     "name": "stdout",
     "output_type": "stream",
     "text": [
      "number of nan data in each column\n",
      "Pregnancies                 133\n",
      "Glucose                     114\n",
      "BloodPressure                88\n",
      "SkinThickness               144\n",
      "Insulin                      88\n",
      "BMI                          84\n",
      "DiabetesPedigreeFunction    178\n",
      "Age                         113\n",
      "Outcome                       0\n",
      "dtype: int64\n",
      "\n",
      "percentage of nan data in each column\n",
      "Pregnancies                 17.317708\n",
      "Glucose                     14.843750\n",
      "BloodPressure               11.458333\n",
      "SkinThickness               18.750000\n",
      "Insulin                     11.458333\n",
      "BMI                         10.937500\n",
      "DiabetesPedigreeFunction    23.177083\n",
      "Age                         14.713542\n",
      "Outcome                      0.000000\n",
      "dtype: float64\n"
     ]
    }
   ],
   "source": [
    "nan = df.isna().sum()\n",
    "percentage_nan = nan/len(df)*100\n",
    "\n",
    "print('number of nan data in each column')\n",
    "print(nan)\n",
    "print('\\npercentage of nan data in each column')\n",
    "print(percentage_nan)"
   ]
  },
  {
   "cell_type": "markdown",
   "metadata": {
    "id": "9Ebt1yAcwzZV"
   },
   "source": [
    "**3.** We can find correlation of features with corr() method.\n",
    "\n",
    "we can see correlation between 'Age' and 'Pregnancies' , 'SkinThickness' and 'Insulin' , 'SkinThickness' and 'BMI' is very high.\n",
    "\n"
   ]
  },
  {
   "cell_type": "code",
   "execution_count": 95,
   "metadata": {
    "colab": {
     "base_uri": "https://localhost:8080/"
    },
    "id": "Y2bOo0s8wyp3",
    "outputId": "0111080a-521f-4565-9543-3eb47dc1c237"
   },
   "outputs": [
    {
     "name": "stdout",
     "output_type": "stream",
     "text": [
      "Index([], dtype='object')\n",
      "Index(['Pregnancies', 'Glucose', 'BloodPressure', 'SkinThickness', 'Insulin',\n",
      "       'BMI', 'DiabetesPedigreeFunction', 'Age', 'Outcome'],\n",
      "      dtype='object')\n"
     ]
    }
   ],
   "source": [
    "numeric_cols = df.select_dtypes([np.number]).columns\n",
    "categorical_cols = df.select_dtypes([np.object]).columns\n",
    "print(categorical_cols)\n",
    "print(numeric_cols)"
   ]
  },
  {
   "cell_type": "code",
   "execution_count": 96,
   "metadata": {
    "colab": {
     "base_uri": "https://localhost:8080/",
     "height": 528
    },
    "id": "ZhvPuMGpy02I",
    "outputId": "4d280622-120a-4ff9-9c17-ab5f508fae2b"
   },
   "outputs": [
    {
     "data": {
      "text/plain": [
       "<matplotlib.axes._subplots.AxesSubplot at 0x7f989bf3bd00>"
      ]
     },
     "execution_count": 96,
     "metadata": {},
     "output_type": "execute_result"
    },
    {
     "data": {
      "image/png": "[encoded data removed]",
      "text/plain": [
       "<Figure size 1080x720 with 2 Axes>"
      ]
     },
     "metadata": {
      "needs_background": "light"
     },
     "output_type": "display_data"
    }
   ],
   "source": [
    "plt.figure(figsize=(15,10))\n",
    "sns.heatmap(df.corr(), cmap=\"YlGnBu\", annot=True)"
   ]
  },
  {
   "cell_type": "markdown",
   "metadata": {
    "id": "YbeeciXh05ZG"
   },
   "source": [
    "**4.** The distplot() method in seaborn library is used to show distribution of most correlated features.\n",
    "\n",
    "**5.** As we can see, these distribution are very similar, So they might help in learning models."
   ]
  },
  {
   "cell_type": "code",
   "execution_count": 97,
   "metadata": {
    "colab": {
     "base_uri": "https://localhost:8080/",
     "height": 470
    },
    "id": "ZUmxLe7zzRBI",
    "outputId": "61c53960-2ceb-4032-a321-7cb38c5e71c3"
   },
   "outputs": [
    {
     "data": {
      "image/png": "[encoded data removed]",
      "text/plain": [
       "<Figure size 864x144 with 2 Axes>"
      ]
     },
     "metadata": {
      "needs_background": "light"
     },
     "output_type": "display_data"
    },
    {
     "data": {
      "image/png": "[encoded data removed]",
      "text/plain": [
       "<Figure size 864x144 with 2 Axes>"
      ]
     },
     "metadata": {
      "needs_background": "light"
     },
     "output_type": "display_data"
    },
    {
     "data": {
      "image/png": "[encoded data removed]",
      "text/plain": [
       "<Figure size 864x144 with 2 Axes>"
      ]
     },
     "metadata": {
      "needs_background": "light"
     },
     "output_type": "display_data"
    }
   ],
   "source": [
    "def plot(df, columns, m, n):\n",
    "  fig=plt.figure(figsize=(12,2))\n",
    "  for i, col in enumerate(columns):\n",
    "      ax=fig.add_subplot(n,m,i+1)\n",
    "      sns.distplot(df[col],ax=ax,bins=30)\n",
    "      ax.set_title(col+\" Distribution\",color='red')\n",
    "  plt.show()\n",
    "\n",
    "col1 = ['Age','Pregnancies']\n",
    "plot(df, col1, 2, 1)\n",
    "col2 = ['SkinThickness','Insulin']\n",
    "plot(df, col2, 2, 1)\n",
    "col3 = ['SkinThickness','BMI']\n",
    "plot(df, col3, 2, 1)"
   ]
  },
  {
   "cell_type": "markdown",
   "metadata": {
    "id": "P3-Um9Mf3lZc"
   },
   "source": [
    "## Preprocessing\n",
    "**1.** There are many ways for managing missing values:\n",
    "  \n",
    "  i) Eliminate column with missing values:\n",
    "      A column is a feature for model, So, deleting the entire column can cause losing a lot of information. Anyways, it's possible that all columns have missing values. Practically it's not always possible to eliminate a column, but it can be done when a column has more than 70% missing values.\n",
    "\n",
    "  ii) Eliminate rows with missing values:\n",
    "      This method is simple and it could be done when missing data of a row is a lot. Eliminating can cause losing data.\n",
    "\n",
    "  iii) Estimate missing values:\n",
    "      Most common method of dealing with missing values is estimating missing values with mean() , median() , mode() and scipy.interpolate().\n",
    "      When there are not many outliers, mean() , median() and mode() are appropriate. mean() is better for columns with continuous numbers, and mode() and median are better for columns with discrete numbers.\n",
    "      Interpolation can be used for estimating a time series\n",
    "      These methods increase the accuracy and prevent losing data, but it might have bias and underestimates variance.\n",
    "\n"
   ]
  },
  {
   "cell_type": "markdown",
   "metadata": {
    "id": "uNXxxqWw33Pn"
   },
   "source": [
    "**2.** We can see DiabetesPedigreeFunction has the most missing values. So, we delete missing values of this feature to help the model to be more accurate and robust.\n",
    "\n",
    "By using mode() and fillna() method we can fill missing values.\n"
   ]
  },
  {
   "cell_type": "code",
   "execution_count": 98,
   "metadata": {
    "colab": {
     "base_uri": "https://localhost:8080/"
    },
    "id": "oev2pOQB3Fum",
    "outputId": "71c3f417-2240-4210-e48d-1614be12bb03"
   },
   "outputs": [
    {
     "name": "stdout",
     "output_type": "stream",
     "text": [
      "number of nan data in each column\n",
      "Pregnancies                 133\n",
      "Glucose                     114\n",
      "BloodPressure                88\n",
      "SkinThickness               144\n",
      "Insulin                      88\n",
      "BMI                          84\n",
      "DiabetesPedigreeFunction    178\n",
      "Age                         113\n",
      "Outcome                       0\n",
      "dtype: int64\n"
     ]
    }
   ],
   "source": [
    "nan = df.isna().sum()\n",
    "print('number of nan data in each column')\n",
    "print(nan)"
   ]
  },
  {
   "cell_type": "code",
   "execution_count": 99,
   "metadata": {
    "colab": {
     "base_uri": "https://localhost:8080/"
    },
    "id": "gcxPpEES4qe1",
    "outputId": "1ca9f3d1-4626-4f7d-972a-afb0d7ea1f22"
   },
   "outputs": [
    {
     "data": {
      "text/plain": [
       "Pregnancies                 0\n",
       "Glucose                     0\n",
       "BloodPressure               0\n",
       "SkinThickness               0\n",
       "Insulin                     0\n",
       "BMI                         0\n",
       "DiabetesPedigreeFunction    0\n",
       "Age                         0\n",
       "Outcome                     0\n",
       "dtype: int64"
      ]
     },
     "execution_count": 99,
     "metadata": {},
     "output_type": "execute_result"
    }
   ],
   "source": [
    "for col in df.columns:\n",
    "  df[col] = df[col].fillna(df[col].mode()[0])\n",
    "df.isna().sum()"
   ]
  },
  {
   "cell_type": "markdown",
   "metadata": {
    "id": "PPY0sn645pdw"
   },
   "source": [
    "**3.** Normalization or Min-Max scaling is used to transform features to a common scale, without distorting differences in the ranges of values. This scales the range to [0, 1] or sometimes [-1, 1]. Normalization is used when the data doesn't have Gaussian distribution. Normalization is highly affected by outliers.\n",
    "\n",
    "$$ X_{new} = (X - X_{min})/(X_{max} - X_{min}) $$\n",
    "\n",
    "Standardization or Z-score is the transformation of features by subtracting from mean and dividing by standard deviation.Then we will have a mean value of 0 and a standard deviation of 1. It is not bounded to a certain range. Standardization is used when we want to compare measurements that have different units. Standardization is used on data having Gaussian distribution. Standardization is slightly affected by outliers.\n",
    "\n",
    "$$ X_{new} = (X - mean)/std $$\n",
    "\n",
    "\n",
    "\n",
    "As we can see our data has a Gaussian distribution and also there are some outliers so we will use Standardization."
   ]
  },
  {
   "cell_type": "code",
   "execution_count": 100,
   "metadata": {
    "colab": {
     "base_uri": "https://localhost:8080/",
     "height": 270
    },
    "id": "nL8O5a_Y5HLv",
    "outputId": "d9f01e01-8ec7-45f2-b52e-d4d326716021"
   },
   "outputs": [
    {
     "data": {
      "text/html": [
       "\n",
       "  <div id=\"df-0a0a9c36-8e08-4313-addc-d06264dafe87\">\n",
       "    <div class=\"colab-df-container\">\n",
       "      <div>\n",
       "<style scoped>\n",
       "    .dataframe tbody tr th:only-of-type {\n",
       "        vertical-align: middle;\n",
       "    }\n",
       "\n",
       "    .dataframe tbody tr th {\n",
       "        vertical-align: top;\n",
       "    }\n",
       "\n",
       "    .dataframe thead th {\n",
       "        text-align: right;\n",
       "    }\n",
       "</style>\n",
       "<table border=\"1\" class=\"dataframe\">\n",
       "  <thead>\n",
       "    <tr style=\"text-align: right;\">\n",
       "      <th></th>\n",
       "      <th>Pregnancies</th>\n",
       "      <th>Glucose</th>\n",
       "      <th>BloodPressure</th>\n",
       "      <th>SkinThickness</th>\n",
       "      <th>Insulin</th>\n",
       "      <th>BMI</th>\n",
       "      <th>DiabetesPedigreeFunction</th>\n",
       "      <th>Age</th>\n",
       "    </tr>\n",
       "  </thead>\n",
       "  <tbody>\n",
       "    <tr>\n",
       "      <th>0</th>\n",
       "      <td>0.824496</td>\n",
       "      <td>0.196266</td>\n",
       "      <td>0.165719</td>\n",
       "      <td>1.120655</td>\n",
       "      <td>-0.634972</td>\n",
       "      <td>0.219114</td>\n",
       "      <td>0.728082</td>\n",
       "      <td>1.383542</td>\n",
       "    </tr>\n",
       "    <tr>\n",
       "      <th>1</th>\n",
       "      <td>-0.665416</td>\n",
       "      <td>-0.140476</td>\n",
       "      <td>-0.157717</td>\n",
       "      <td>0.755941</td>\n",
       "      <td>-0.634972</td>\n",
       "      <td>-0.731770</td>\n",
       "      <td>-0.183221</td>\n",
       "      <td>-0.038594</td>\n",
       "    </tr>\n",
       "    <tr>\n",
       "      <th>2</th>\n",
       "      <td>-0.665416</td>\n",
       "      <td>0.383345</td>\n",
       "      <td>-0.265530</td>\n",
       "      <td>-1.006840</td>\n",
       "      <td>-0.634972</td>\n",
       "      <td>-1.180044</td>\n",
       "      <td>0.876664</td>\n",
       "      <td>0.036255</td>\n",
       "    </tr>\n",
       "    <tr>\n",
       "      <th>3</th>\n",
       "      <td>-0.665416</td>\n",
       "      <td>-0.119096</td>\n",
       "      <td>-0.157717</td>\n",
       "      <td>0.391228</td>\n",
       "      <td>0.206374</td>\n",
       "      <td>-0.528009</td>\n",
       "      <td>-0.790757</td>\n",
       "      <td>-0.787087</td>\n",
       "    </tr>\n",
       "    <tr>\n",
       "      <th>4</th>\n",
       "      <td>-0.665416</td>\n",
       "      <td>0.137470</td>\n",
       "      <td>-1.559276</td>\n",
       "      <td>1.120655</td>\n",
       "      <td>0.868710</td>\n",
       "      <td>-0.106904</td>\n",
       "      <td>-0.658684</td>\n",
       "      <td>0.111104</td>\n",
       "    </tr>\n",
       "  </tbody>\n",
       "</table>\n",
       "</div>\n",
       "      <button class=\"colab-df-convert\" onclick=\"convertToInteractive('df-0a0a9c36-8e08-4313-addc-d06264dafe87')\"\n",
       "              title=\"Convert this dataframe to an interactive table.\"\n",
       "              style=\"display:none;\">\n",
       "        \n",
       "  <svg xmlns=\"http://www.w3.org/2000/svg\" height=\"24px\"viewBox=\"0 0 24 24\"\n",
       "       width=\"24px\">\n",
       "    <path d=\"M0 0h24v24H0V0z\" fill=\"none\"/>\n",
       "    <path d=\"M18.56 5.44l.94 2.06.94-2.06 2.06-.94-2.06-.94-.94-2.06-.94 2.06-2.06.94zm-11 1L8.5 8.5l.94-2.06 2.06-.94-2.06-.94L8.5 2.5l-.94 2.06-2.06.94zm10 10l.94 2.06.94-2.06 2.06-.94-2.06-.94-.94-2.06-.94 2.06-2.06.94z\"/><path d=\"M17.41 7.96l-1.37-1.37c-.4-.4-.92-.59-1.43-.59-.52 0-1.04.2-1.43.59L10.3 9.45l-7.72 7.72c-.78.78-.78 2.05 0 2.83L4 21.41c.39.39.9.59 1.41.59.51 0 1.02-.2 1.41-.59l7.78-7.78 2.81-2.81c.8-.78.8-2.07 0-2.86zM5.41 20L4 18.59l7.72-7.72 1.47 1.35L5.41 20z\"/>\n",
       "  </svg>\n",
       "      </button>\n",
       "      \n",
       "  <style>\n",
       "    .colab-df-container {\n",
       "      display:flex;\n",
       "      flex-wrap:wrap;\n",
       "      gap: 12px;\n",
       "    }\n",
       "\n",
       "    .colab-df-convert {\n",
       "      background-color: #E8F0FE;\n",
       "      border: none;\n",
       "      border-radius: 50%;\n",
       "      cursor: pointer;\n",
       "      display: none;\n",
       "      fill: #1967D2;\n",
       "      height: 32px;\n",
       "      padding: 0 0 0 0;\n",
       "      width: 32px;\n",
       "    }\n",
       "\n",
       "    .colab-df-convert:hover {\n",
       "      background-color: #E2EBFA;\n",
       "      box-shadow: 0px 1px 2px rgba(60, 64, 67, 0.3), 0px 1px 3px 1px rgba(60, 64, 67, 0.15);\n",
       "      fill: #174EA6;\n",
       "    }\n",
       "\n",
       "    [theme=dark] .colab-df-convert {\n",
       "      background-color: #3B4455;\n",
       "      fill: #D2E3FC;\n",
       "    }\n",
       "\n",
       "    [theme=dark] .colab-df-convert:hover {\n",
       "      background-color: #434B5C;\n",
       "      box-shadow: 0px 1px 3px 1px rgba(0, 0, 0, 0.15);\n",
       "      filter: drop-shadow(0px 1px 2px rgba(0, 0, 0, 0.3));\n",
       "      fill: #FFFFFF;\n",
       "    }\n",
       "  </style>\n",
       "\n",
       "      <script>\n",
       "        const buttonEl =\n",
       "          document.querySelector('#df-0a0a9c36-8e08-4313-addc-d06264dafe87 button.colab-df-convert');\n",
       "        buttonEl.style.display =\n",
       "          google.colab.kernel.accessAllowed ? 'block' : 'none';\n",
       "\n",
       "        async function convertToInteractive(key) {\n",
       "          const element = document.querySelector('#df-0a0a9c36-8e08-4313-addc-d06264dafe87');\n",
       "          const dataTable =\n",
       "            await google.colab.kernel.invokeFunction('convertToInteractive',\n",
       "                                                     [key], {});\n",
       "          if (!dataTable) return;\n",
       "\n",
       "          const docLinkHtml = 'Like what you see? Visit the ' +\n",
       "            '<a target=\"_blank\" href=https://colab.research.google.com/notebooks/data_table.ipynb>data table notebook</a>'\n",
       "            + ' to learn more about interactive tables.';\n",
       "          element.innerHTML = '';\n",
       "          dataTable['output_type'] = 'display_data';\n",
       "          await google.colab.output.renderOutput(dataTable, element);\n",
       "          const docLink = document.createElement('div');\n",
       "          docLink.innerHTML = docLinkHtml;\n",
       "          element.appendChild(docLink);\n",
       "        }\n",
       "      </script>\n",
       "    </div>\n",
       "  </div>\n",
       "  "
      ],
      "text/plain": [
       "   Pregnancies   Glucose  BloodPressure  SkinThickness   Insulin       BMI  \\\n",
       "0     0.824496  0.196266       0.165719       1.120655 -0.634972  0.219114   \n",
       "1    -0.665416 -0.140476      -0.157717       0.755941 -0.634972 -0.731770   \n",
       "2    -0.665416  0.383345      -0.265530      -1.006840 -0.634972 -1.180044   \n",
       "3    -0.665416 -0.119096      -0.157717       0.391228  0.206374 -0.528009   \n",
       "4    -0.665416  0.137470      -1.559276       1.120655  0.868710 -0.106904   \n",
       "\n",
       "   DiabetesPedigreeFunction       Age  \n",
       "0                  0.728082  1.383542  \n",
       "1                 -0.183221 -0.038594  \n",
       "2                  0.876664  0.036255  \n",
       "3                 -0.790757 -0.787087  \n",
       "4                 -0.658684  0.111104  "
      ]
     },
     "execution_count": 100,
     "metadata": {},
     "output_type": "execute_result"
    }
   ],
   "source": [
    "label = df['Outcome']\n",
    "train = df\n",
    "train = train.drop(['Outcome'],axis=1)\n",
    "cols = train.columns\n",
    "\n",
    "scaler = StandardScaler()\n",
    "df_scaled = pd.DataFrame(scaler.fit_transform(train), columns=cols)\n",
    "df_scaled.head()"
   ]
  },
  {
   "cell_type": "markdown",
   "metadata": {
    "id": "tk_SfpOpMnnw"
   },
   "source": [
    "**4.** There are several different types of categorical data including:\n",
    "\n",
    "Ordinal: A variable that has some order associated with it.\n",
    "\n",
    "Nominal: A variable that has no numerical importance, for example color or city.\n",
    "\n",
    "There are many ways to encode categorical data. We can see some of them in the below.\n",
    "\n",
    "Ordinal Encoding:\n",
    "\n",
    "\n",
    "This type of encoding is used when the variables in the data are ordinal, ordinal encoding converts each label into integer values and the encoded data represents the sequence of labels.\n",
    "\n",
    "One-Hot Encoding:\n",
    "\n",
    "\n",
    "In One-Hot Encoding, each category of any categorical variable gets a new variable. It maps each category with binary numbers (0 or 1). This type of encoding is used when the data is nominal. Newly created binary features can be considered dummy variables. After one hot encoding, the number of dummy variables depends on the number of categories presented in the data.\n",
    "\n",
    "Effect Encoding:\n",
    "\n",
    "\n",
    "In this type of encoding, encoders provide values to the categories in -1,0,1 format. -1 formation is the only difference between One-Hot encoding and effect encoding.\n",
    "\n",
    "\n",
    "these methods can be used only when categorical data has a little variety. For example, if a column consists of names, it won't add any information. So we can eliminate it."
   ]
  },
  {
   "cell_type": "markdown",
   "metadata": {
    "id": "M5VZU1BWRILV"
   },
   "source": [
    "**5.** Yes, we can eliminate columns with less correlation to the target, because they doesn't add information. also between correlated features which are correlated to the target, we can eliminate some of them to make algorithm faster."
   ]
  },
  {
   "cell_type": "code",
   "execution_count": 101,
   "metadata": {
    "id": "MBGNFJH3gISn"
   },
   "outputs": [],
   "source": [
    "df = df.drop(['DiabetesPedigreeFunction'],axis=1)"
   ]
  },
  {
   "cell_type": "markdown",
   "metadata": {
    "id": "37XwbrNHSX6U"
   },
   "source": [
    "**6.** The optimum split percentage depends on the data.\n",
    "\n",
    "* More training data means model sees more examples and thus finds a better solution. But with less training data, the parameter estimates have a higher variance.\n",
    "\n",
    "* It is important that test set represents most of the variance in the dataset. Less testing data leads to high variance in performance measures.\n",
    "\n",
    "common split percentages include:<br/>\n",
    "Train: 80%, Test: 20%<br/>\n",
    "Train: 67%, Test: 33%<br/>\n",
    "Train: 50%, Test: 50%<br/>\n",
    "\n",
    "Random split:\n",
    "\n",
    "Data might be sorted by some feature or it might have autocorrelation. So random split is needed to ensure that the train and test datasets are representative of the original dataset. Otherwise, \n",
    "train and test splits might end up being biased.\n",
    "\n",
    "Stratify: \n",
    "\n",
    "The proportions of the target variable must be same among train and test set in order to represent the true distribution of the data. "
   ]
  },
  {
   "cell_type": "markdown",
   "metadata": {
    "id": "bO7EH6FtWzy_"
   },
   "source": [
    "**7.** The validation set is a set of data, separate from the training set, that is used to validate our model performance during training. This validation process gives information that helps us tune the model’s hyperparameters and configurations accordingly. This mostly used when we train a model during some epochs.\n"
   ]
  },
  {
   "cell_type": "code",
   "execution_count": 102,
   "metadata": {
    "colab": {
     "base_uri": "https://localhost:8080/"
    },
    "id": "IpbG9oNV6iHD",
    "outputId": "54e252fc-5f38-4743-bf91-b7474977c7f1"
   },
   "outputs": [
    {
     "data": {
      "text/plain": [
       "(614, 154, 614, 154)"
      ]
     },
     "execution_count": 102,
     "metadata": {},
     "output_type": "execute_result"
    }
   ],
   "source": [
    "X_train, X_test, y_train, y_test = train_test_split(df_scaled, label, test_size = 0.2, random_state = 1)\n",
    "len(X_train), len(X_test), len(y_train), len(y_test)"
   ]
  },
  {
   "cell_type": "markdown",
   "metadata": {
    "id": "5m0F4UmSceZH"
   },
   "source": [
    "**1.** Evaluating models\n",
    "\n",
    "  Accuracy = TP+TN/TP+FP+FN+TN\n",
    "\n",
    "  Precision = TP/TP+FP\n",
    "\n",
    "  Recall = TP/TP+FN\n",
    "\n",
    "  F1 Score = 2*(Recall * Precision) / (Recall + Precision)\n",
    "\n",
    "\n"
   ]
  },
  {
   "cell_type": "code",
   "execution_count": 103,
   "metadata": {
    "id": "9nJUHSjpo8tY"
   },
   "outputs": [],
   "source": [
    "def report(model, test, Y_test):\n",
    "  y_pred = model.predict(test)\n",
    "  accuracy = accuracy_score(Y_test, y_pred)\n",
    "  print('Accuracy Test: %f' % accuracy)\n",
    "  precision = precision_score(Y_test, y_pred, average='macro')\n",
    "  print('Precision Test: %f' % precision)\n",
    "  recall = recall_score(Y_test, y_pred, average='macro')\n",
    "  print('Recall Test: %f' % recall)\n",
    "  f1 = f1_score(Y_test, y_pred, average='macro')\n",
    "  print('F1 score Test: %f' % f1)\n",
    "\n",
    "  print(classification_report(Y_test, y_pred))\n",
    "  mat = confusion_matrix(Y_test, y_pred)\n",
    "  sns.heatmap(mat, annot=True, cmap='Spectral')"
   ]
  },
  {
   "cell_type": "markdown",
   "metadata": {
    "id": "lo5nA3GmKkjM"
   },
   "source": [
    "## K-Nearest-Neighbours"
   ]
  },
  {
   "cell_type": "code",
   "execution_count": 104,
   "metadata": {
    "colab": {
     "base_uri": "https://localhost:8080/",
     "height": 312
    },
    "id": "xSkC7sol8IRd",
    "outputId": "850dd7e2-c1b8-42f0-e6bc-49f863b7cc62"
   },
   "outputs": [
    {
     "name": "stdout",
     "output_type": "stream",
     "text": [
      "best number of neighbours =  19\n"
     ]
    },
    {
     "data": {
      "image/png": "[encoded data removed]",
      "text/plain": [
       "<Figure size 432x288 with 1 Axes>"
      ]
     },
     "metadata": {
      "needs_background": "light"
     },
     "output_type": "display_data"
    }
   ],
   "source": [
    "neighbour = list(range(1,30,1))\n",
    "train_acc = []\n",
    "test_acc = []\n",
    "\n",
    "for n in neighbour:\n",
    "  model = KNeighborsClassifier(n_neighbors=n)\n",
    "  model = model.fit(X_train, y_train)\n",
    "  ypred_test = model.predict(X_test)\n",
    "  ypred_train = model.predict(X_train)\n",
    "  train_acc.append(metrics.accuracy_score(y_train,ypred_train))\n",
    "  test_acc.append(metrics.accuracy_score(y_test,ypred_test))\n",
    "\n",
    "plt.plot(neighbour, train_acc, label='Train', color='blue')\n",
    "plt.plot(neighbour, test_acc, label='Test', color='purple')\n",
    "plt.xlabel('neighbour')\n",
    "plt.ylabel('accuracy')\n",
    "plt.title('Knn')\n",
    "plt.legend()\n",
    "print('best number of neighbours = ', np.argmax(test_acc)+1)"
   ]
  },
  {
   "cell_type": "code",
   "execution_count": 105,
   "metadata": {
    "colab": {
     "base_uri": "https://localhost:8080/"
    },
    "id": "aavpkntUTg47",
    "outputId": "ab6658fc-529b-4f38-9c83-7e5767f3e3c9"
   },
   "outputs": [
    {
     "name": "stdout",
     "output_type": "stream",
     "text": [
      "Best Hyperparameters : {'n_neighbors': 13}\n",
      "Accuracy : 0.6954521417239555\n"
     ]
    }
   ],
   "source": [
    "parameters ={'n_neighbors': list(range(1, 40, 2))}\n",
    "\n",
    "model = KNeighborsClassifier()\n",
    "\n",
    "grid = GridSearchCV(model, param_grid = parameters, scoring='accuracy', cv=10)\n",
    "          \n",
    "grid.fit(X_train,y_train)\n",
    "print(\"Best Hyperparameters :\", grid.best_params_)\n",
    "print(\"Accuracy :\",grid.best_score_)"
   ]
  },
  {
   "cell_type": "code",
   "execution_count": 130,
   "metadata": {
    "colab": {
     "base_uri": "https://localhost:8080/",
     "height": 491
    },
    "id": "P4ZCUGkesY3s",
    "outputId": "8ebb4ec1-955a-4196-b3f6-9eab070e7d15"
   },
   "outputs": [
    {
     "name": "stdout",
     "output_type": "stream",
     "text": [
      "Accuracy Test: 0.727273\n",
      "Precision Test: 0.761905\n",
      "Recall Test: 0.634343\n",
      "F1 score Test: 0.633167\n",
      "              precision    recall  f1-score   support\n",
      "\n",
      "           0       0.71      0.96      0.82        99\n",
      "           1       0.81      0.31      0.45        55\n",
      "\n",
      "    accuracy                           0.73       154\n",
      "   macro avg       0.76      0.63      0.63       154\n",
      "weighted avg       0.75      0.73      0.69       154\n",
      "\n"
     ]
    },
    {
     "data": {
      "image/png": "[encoded data removed]",
      "text/plain": [
       "<Figure size 432x288 with 2 Axes>"
      ]
     },
     "metadata": {
      "needs_background": "light"
     },
     "output_type": "display_data"
    }
   ],
   "source": [
    "model = KNeighborsClassifier(n_neighbors=19)\n",
    "model = model.fit(X_train, y_train)\n",
    "report(model, X_test, y_test)"
   ]
  },
  {
   "cell_type": "markdown",
   "metadata": {
    "id": "sh8PRa_FXl3c"
   },
   "source": [
    "## Logistic Regression"
   ]
  },
  {
   "cell_type": "code",
   "execution_count": 107,
   "metadata": {
    "colab": {
     "base_uri": "https://localhost:8080/",
     "height": 312
    },
    "id": "IjjUR7qONbke",
    "outputId": "325e7746-b2a8-4947-e33c-3f36beca378e"
   },
   "outputs": [
    {
     "data": {
      "text/plain": [
       "<matplotlib.legend.Legend at 0x7f989a709940>"
      ]
     },
     "execution_count": 107,
     "metadata": {},
     "output_type": "execute_result"
    },
    {
     "data": {
      "image/png": "[encoded data removed]",
      "text/plain": [
       "<Figure size 432x288 with 1 Axes>"
      ]
     },
     "metadata": {
      "needs_background": "light"
     },
     "output_type": "display_data"
    }
   ],
   "source": [
    "solver = ['lbfgs','liblinear','newton-cg','sag','saga']\n",
    "train_acc = []\n",
    "test_acc = []\n",
    "\n",
    "for s in solver:\n",
    "  model = LogisticRegression(solver = s, penalty='l2', C=10)\n",
    "  model = model.fit(X_train, y_train)\n",
    "  ypred_test = model.predict(X_test)\n",
    "  ypred_train = model.predict(X_train)\n",
    "  train_acc.append(metrics.accuracy_score(y_train,ypred_train))\n",
    "  test_acc.append(metrics.accuracy_score(y_test,ypred_test))\n",
    "\n",
    "plt.plot(solver, train_acc, label='Train', color='blue')\n",
    "plt.plot(solver, test_acc, label='Test', color='purple')\n",
    "plt.xlabel('solver')\n",
    "plt.ylabel('accuracy')\n",
    "plt.title('Logistic Regression')\n",
    "plt.legend()"
   ]
  },
  {
   "cell_type": "code",
   "execution_count": 108,
   "metadata": {
    "colab": {
     "base_uri": "https://localhost:8080/"
    },
    "id": "XxIAP7kdRTls",
    "outputId": "83162089-3943-4e63-fb5e-f038e7fe68e2"
   },
   "outputs": [
    {
     "name": "stdout",
     "output_type": "stream",
     "text": [
      "Best Hyperparameters : {'C': 1.0, 'penalty': 'l2', 'solver': 'lbfgs'}\n",
      "Accuracy : 0.7605764145954521\n"
     ]
    }
   ],
   "source": [
    "parameters = {\n",
    "    'penalty' : ['l1','l2'], \n",
    "    'C'       : np.logspace(-3,3,7),\n",
    "    'solver'  : ['lbfgs','liblinear','newton-cg','sag','saga'],\n",
    "}\n",
    "\n",
    "model = LogisticRegression()\n",
    "\n",
    "grid = GridSearchCV(model, param_grid = parameters, scoring='accuracy', cv=10)\n",
    "          \n",
    "grid.fit(X_train,y_train)\n",
    "print(\"Best Hyperparameters :\", grid.best_params_)\n",
    "print(\"Accuracy :\",grid.best_score_)"
   ]
  },
  {
   "cell_type": "code",
   "execution_count": 128,
   "metadata": {
    "colab": {
     "base_uri": "https://localhost:8080/",
     "height": 493
    },
    "id": "FaI3E0vfsYx9",
    "outputId": "dccb09d1-8c12-486f-aca3-75eb35d37543"
   },
   "outputs": [
    {
     "name": "stdout",
     "output_type": "stream",
     "text": [
      "Accuracy Test: 0.766234\n",
      "Precision Test: 0.768067\n",
      "Recall Test: 0.705051\n",
      "F1 score Test: 0.717431\n",
      "              precision    recall  f1-score   support\n",
      "\n",
      "           0       0.76      0.92      0.83        99\n",
      "           1       0.77      0.49      0.60        55\n",
      "\n",
      "    accuracy                           0.77       154\n",
      "   macro avg       0.77      0.71      0.72       154\n",
      "weighted avg       0.77      0.77      0.75       154\n",
      "\n"
     ]
    },
    {
     "data": {
      "image/png": "[encoded data removed]",
      "text/plain": [
       "<Figure size 432x288 with 2 Axes>"
      ]
     },
     "metadata": {
      "needs_background": "light"
     },
     "output_type": "display_data"
    }
   ],
   "source": [
    "model = LogisticRegression(C=1.0, penalty='l2', solver='lbfgs')\n",
    "model = model.fit(X_train, y_train)\n",
    "report(model, X_test, y_test)"
   ]
  },
  {
   "cell_type": "markdown",
   "metadata": {
    "id": "0MqeohJHXmMY"
   },
   "source": [
    "## Decision Trees"
   ]
  },
  {
   "cell_type": "code",
   "execution_count": 110,
   "metadata": {
    "colab": {
     "base_uri": "https://localhost:8080/",
     "height": 312
    },
    "id": "DEqDvMFkVOcX",
    "outputId": "dcc0346f-af55-4a38-c686-b1458bf97fb8"
   },
   "outputs": [
    {
     "name": "stdout",
     "output_type": "stream",
     "text": [
      "best number of depth =  4\n"
     ]
    },
    {
     "data": {
      "image/png": "[encoded data removed]",
      "text/plain": [
       "<Figure size 432x288 with 1 Axes>"
      ]
     },
     "metadata": {
      "needs_background": "light"
     },
     "output_type": "display_data"
    }
   ],
   "source": [
    "max_depth = list(range(1,100,1))\n",
    "train_acc = []\n",
    "test_acc = []\n",
    "\n",
    "for n in max_depth:\n",
    "  model = DecisionTreeClassifier(max_depth = n)\n",
    "  model = model.fit(X_train, y_train)\n",
    "  ypred_test = model.predict(X_test)\n",
    "  ypred_train = model.predict(X_train)\n",
    "  train_acc.append(metrics.accuracy_score(y_train,ypred_train))\n",
    "  test_acc.append(metrics.accuracy_score(y_test,ypred_test))\n",
    "\n",
    "plt.plot(max_depth, train_acc, label='Train', color='blue')\n",
    "plt.plot(max_depth, test_acc, label='Test', color='purple')\n",
    "plt.xlabel('max depth')\n",
    "plt.ylabel('accuracy')\n",
    "plt.title('Decision Tree')\n",
    "plt.legend()\n",
    "print('best number of depth = ', np.argmax(test_acc)+1)"
   ]
  },
  {
   "cell_type": "code",
   "execution_count": 111,
   "metadata": {
    "colab": {
     "base_uri": "https://localhost:8080/",
     "height": 312
    },
    "id": "Us0rVptCVkQ4",
    "outputId": "e8d55a2b-013e-4a80-908a-e2cc373e61ae"
   },
   "outputs": [
    {
     "name": "stdout",
     "output_type": "stream",
     "text": [
      "best number of leaf =  17\n"
     ]
    },
    {
     "data": {
      "image/png": "[encoded data removed]",
      "text/plain": [
       "<Figure size 432x288 with 1 Axes>"
      ]
     },
     "metadata": {
      "needs_background": "light"
     },
     "output_type": "display_data"
    }
   ],
   "source": [
    "min_leaf = list(range(1,30,1))\n",
    "train_acc = []\n",
    "test_acc = []\n",
    "\n",
    "for n in min_leaf:\n",
    "  model = DecisionTreeClassifier(max_depth = 9, min_samples_leaf=n)\n",
    "  model = model.fit(X_train, y_train)\n",
    "  ypred_test = model.predict(X_test)\n",
    "  ypred_train = model.predict(X_train)\n",
    "  train_acc.append(metrics.accuracy_score(y_train,ypred_train))\n",
    "  test_acc.append(metrics.accuracy_score(y_test,ypred_test))\n",
    "\n",
    "plt.plot(min_leaf, train_acc, label='Train', color='blue')\n",
    "plt.plot(min_leaf, test_acc, label='Test', color='purple')\n",
    "plt.xlabel('min leaf')\n",
    "plt.ylabel('accuracy')\n",
    "plt.title('Decision Tree')\n",
    "plt.legend()\n",
    "print('best number of leaf = ', np.argmax(test_acc)+1)"
   ]
  },
  {
   "cell_type": "code",
   "execution_count": 112,
   "metadata": {
    "colab": {
     "base_uri": "https://localhost:8080/"
    },
    "id": "DxKxJ49GMbZt",
    "outputId": "1356af65-4c47-461e-819e-e3d530b3ea3a"
   },
   "outputs": [
    {
     "name": "stdout",
     "output_type": "stream",
     "text": [
      "Best Hyperparameters : {'max_depth': 5, 'min_samples_leaf': 1}\n",
      "Accuracy : 0.726388154415653\n"
     ]
    }
   ],
   "source": [
    "parameters = {'max_depth': list(range(1,20, 2)), \n",
    "              'min_samples_leaf' : list(range(1, 5))}\n",
    "\n",
    "model = DecisionTreeClassifier()\n",
    "grid = GridSearchCV(model, param_grid = parameters, scoring='accuracy', cv=10)\n",
    "          \n",
    "grid.fit(X_train,y_train)\n",
    "print(\"Best Hyperparameters :\", grid.best_params_)\n",
    "print(\"Accuracy :\",grid.best_score_)"
   ]
  },
  {
   "cell_type": "code",
   "execution_count": 122,
   "metadata": {
    "colab": {
     "base_uri": "https://localhost:8080/",
     "height": 493
    },
    "id": "TA27-4VssY0H",
    "outputId": "e1a24abd-2600-4995-be65-da4e2a04d5b4"
   },
   "outputs": [
    {
     "name": "stdout",
     "output_type": "stream",
     "text": [
      "Accuracy Test: 0.740260\n",
      "Precision Test: 0.740886\n",
      "Recall Test: 0.668687\n",
      "F1 score Test: 0.677352\n",
      "              precision    recall  f1-score   support\n",
      "\n",
      "           0       0.74      0.92      0.82        99\n",
      "           1       0.74      0.42      0.53        55\n",
      "\n",
      "    accuracy                           0.74       154\n",
      "   macro avg       0.74      0.67      0.68       154\n",
      "weighted avg       0.74      0.74      0.72       154\n",
      "\n"
     ]
    },
    {
     "data": {
      "image/png": "[encoded data removed]",
      "text/plain": [
       "<Figure size 432x288 with 2 Axes>"
      ]
     },
     "metadata": {
      "needs_background": "light"
     },
     "output_type": "display_data"
    }
   ],
   "source": [
    "model = DecisionTreeClassifier(max_depth=4, min_samples_leaf=17)\n",
    "model = model.fit(X_train, y_train)\n",
    "report(model, X_test, y_test)"
   ]
  },
  {
   "cell_type": "markdown",
   "metadata": {
    "id": "IWpIs92RYpdG"
   },
   "source": [
    "**3.** Underfitting and Overfitting\n",
    "\n",
    "Overfitting:\n",
    "\n",
    "Overfitting is the case where the overall cost is really small, but the generalization of the model is unreliable. This is due to the model learning “too much” from the training data set. model learns the detail and noise in the training data to the extent that it negatively impacts the performance of the model on unseen data, but the model has a high accuracy on training data.\n",
    "\n",
    "Underfitting:\n",
    "\n",
    "Underfitting happens when model is not complex enough to accurately capture relationships between a dataset’s features and a target variable. An underfitted model results in problematic or erroneous outcomes on new data and often performs poorly even on training data.\n",
    "\n",
    "KNN: It can be observed from the KNN plot that too low value of k leads to overfitting and too big value of k leads to underfitting.\n",
    "\n",
    "Logistic Regression: Logistic regression models tend to overfit the data, particularly in high-dimensional settings.\n",
    "\n",
    "\n",
    "Decision Trees: It can be observed from the plot taht high depth leads to overfitting because with high depth the tree ends up having branches with strict rules of sparse data. At very low depths, undertraining and lack of complexity results in underfitting.\n"
   ]
  },
  {
   "cell_type": "markdown",
   "metadata": {
    "id": "Gm5RxCgfeuN7"
   },
   "source": [
    "**4.** Impact of preprocessing on accuracy with droping column with most Nan and without standardization\n"
   ]
  },
  {
   "cell_type": "code",
   "execution_count": 114,
   "metadata": {
    "id": "XxEa3mDJfim1"
   },
   "outputs": [],
   "source": [
    "def runModels(X_train, X_test, y_train, y_test):\n",
    "    Dt = DecisionTreeClassifier(max_depth = 8)\n",
    "    Dt = Dt.fit(X_train, y_train)\n",
    "    tree_ytest_pred = Dt.predict(X_test)\n",
    "    tree_ytrain_pred = Dt.predict(X_train)\n",
    "    print(\"\\nDecision Tree:\")\n",
    "    print(\"\\tAccuracy on train set = \",metrics.accuracy_score(y_train, tree_ytrain_pred))\n",
    "    print(\"\\tAccuracy on test set = \",metrics.accuracy_score(y_test, tree_ytest_pred))\n",
    "\n",
    "    knn = KNeighborsClassifier(n_neighbors=15)\n",
    "    knn = knn.fit(X_train, y_train)\n",
    "    knn_ytest_pred = knn.predict(X_test)\n",
    "    knn_ytrain_pred = knn.predict(X_train)\n",
    "    print(\"KNN:\")\n",
    "    print(\"\\tAccuracy on train set = \",metrics.accuracy_score(y_train, knn_ytrain_pred))\n",
    "    print(\"\\tAccuracy on test set = \",metrics.accuracy_score(y_test, knn_ytest_pred))\n",
    "    \n",
    "    LR = LogisticRegression(C=10.0, penalty='l1', solver='saga')\n",
    "    LR = LR.fit(X_train, y_train)\n",
    "    LR_ytest_pred = LR.predict(X_test)\n",
    "    LR_ytrain_pred = LR.predict(X_train)\n",
    "    print(\"Logistic Regression:\")\n",
    "    print(\"\\tAccuracy on train set = \",metrics.accuracy_score(y_train, LR_ytrain_pred))\n",
    "    print(\"\\tAccuracy on test set = \",metrics.accuracy_score(y_test, LR_ytest_pred))\n"
   ]
  },
  {
   "cell_type": "markdown",
   "metadata": {
    "id": "W45cWcV7gvY2"
   },
   "source": [
    "without standardization"
   ]
  },
  {
   "cell_type": "code",
   "execution_count": 115,
   "metadata": {
    "colab": {
     "base_uri": "https://localhost:8080/"
    },
    "id": "OsFfL35Iflkc",
    "outputId": "06de9899-da21-4005-d1e3-bd7e3fda7237"
   },
   "outputs": [
    {
     "name": "stdout",
     "output_type": "stream",
     "text": [
      "\n",
      "Decision Tree:\n",
      "\tAccuracy on train set =  0.9087947882736156\n",
      "\tAccuracy on test set =  0.7207792207792207\n",
      "KNN:\n",
      "\tAccuracy on train set =  0.760586319218241\n",
      "\tAccuracy on test set =  0.7727272727272727\n",
      "Logistic Regression:\n",
      "\tAccuracy on train set =  0.6807817589576547\n",
      "\tAccuracy on test set =  0.6168831168831169\n"
     ]
    }
   ],
   "source": [
    "df_new1 = pd.read_csv('/content/gdrive/MyDrive/diabetes.csv')\n",
    "for col in df_new1.columns:\n",
    "  df_new1[col] = df_new1[col].fillna(df_new1[col].mode()[0])\n",
    "\n",
    "label1 = df_new1['Outcome']\n",
    "train1 = df_new1\n",
    "train1 = train1.drop(['Outcome'],axis=1)\n",
    "X_train1, X_test1, y_train1, y_test1 = train_test_split(train1, label1, test_size = 0.2, random_state = 1)\n",
    "runModels(X_train1, X_test1, y_train1, y_test1)\n"
   ]
  },
  {
   "cell_type": "markdown",
   "metadata": {
    "id": "F6h1w_-ngyzP"
   },
   "source": [
    "with droping column with most Nan"
   ]
  },
  {
   "cell_type": "code",
   "execution_count": 116,
   "metadata": {
    "colab": {
     "base_uri": "https://localhost:8080/"
    },
    "id": "RWB2HnNPflSu",
    "outputId": "efc8eab7-6284-4097-a389-4fbd4118e8aa"
   },
   "outputs": [
    {
     "name": "stdout",
     "output_type": "stream",
     "text": [
      "\n",
      "Decision Tree:\n",
      "\tAccuracy on train set =  0.7719869706840391\n",
      "\tAccuracy on test set =  0.5974025974025974\n",
      "KNN:\n",
      "\tAccuracy on train set =  0.7003257328990228\n",
      "\tAccuracy on test set =  0.6688311688311688\n",
      "Logistic Regression:\n",
      "\tAccuracy on train set =  0.6742671009771987\n",
      "\tAccuracy on test set =  0.6753246753246753\n"
     ]
    }
   ],
   "source": [
    "df_new2 = pd.read_csv('/content/gdrive/MyDrive/diabetes.csv')\n",
    "for col in df_new2.columns:\n",
    "  df_new2[col] = df_new2[col].fillna(df_new2[col].mode()[0])\n",
    "\n",
    "label2 = df_new2['Outcome']\n",
    "train2 = df_new2\n",
    "train2 = train2.drop(['Outcome','SkinThickness','Pregnancies','Glucose','DiabetesPedigreeFunction','Age'],axis=1)\n",
    "cols = train2.columns\n",
    "scaler = StandardScaler()\n",
    "df_scaled2 = pd.DataFrame(scaler.fit_transform(train2), columns=cols)\n",
    "X_train2, X_test2, y_train2, y_test2 = train_test_split(df_scaled2, label2, test_size = 0.2, random_state = 1)\n",
    "runModels(X_train2, X_test2, y_train2, y_test2)"
   ]
  },
  {
   "cell_type": "markdown",
   "metadata": {
    "id": "82OdnwmiYRTb"
   },
   "source": [
    "## Random Forest"
   ]
  },
  {
   "cell_type": "markdown",
   "metadata": {
    "id": "o3p6TwuRyQfC"
   },
   "source": [
    "**1.**\n",
    "max_depth :\n",
    "\n",
    "max_depth represents the depth of each tree in the forest which is the longest path between the root node and the leaf node. The deeper the tree, the more splits it has and it captures more information about the data.\n",
    "\n",
    "n_estimators:\n",
    "\n",
    "n_estimators represents the number of trees in the forest. Using many trees will help to get a more generalized result and prevent from any overfitting, but can certainly increase the time complexity of the model. \n",
    "\n",
    "min_samples_leaf : '\n",
    "\n",
    "min_samples_leaf is The minimum number of samples required to be at a leaf node. The larger value of min_samples_leaf helps to reduce overfitting, since it controlles the growth of the tree. "
   ]
  },
  {
   "cell_type": "code",
   "execution_count": 118,
   "metadata": {
    "colab": {
     "base_uri": "https://localhost:8080/",
     "height": 1000
    },
    "id": "17wajlx9rdP8",
    "outputId": "7d62ca8c-0a99-49c9-dfeb-557782495190"
   },
   "outputs": [
    {
     "data": {
      "image/png": "[encoded data removed]",
      "text/plain": [
       "<Figure size 432x288 with 1 Axes>"
      ]
     },
     "metadata": {
      "needs_background": "light"
     },
     "output_type": "display_data"
    },
    {
     "name": "stdout",
     "output_type": "stream",
     "text": [
      "best accuracy is achived with max_depth  =  19 \n",
      "\n",
      "\n"
     ]
    },
    {
     "data": {
      "image/png": "[encoded data removed]",
      "text/plain": [
       "<Figure size 432x288 with 1 Axes>"
      ]
     },
     "metadata": {
      "needs_background": "light"
     },
     "output_type": "display_data"
    },
    {
     "name": "stdout",
     "output_type": "stream",
     "text": [
      "best accuracy is achived with n_estimators  =  401 \n",
      "\n",
      "\n"
     ]
    },
    {
     "data": {
      "image/png": "[encoded data removed]",
      "text/plain": [
       "<Figure size 432x288 with 1 Axes>"
      ]
     },
     "metadata": {
      "needs_background": "light"
     },
     "output_type": "display_data"
    },
    {
     "name": "stdout",
     "output_type": "stream",
     "text": [
      "best accuracy is achived with min_samples_leaf  =  23 \n",
      "\n",
      "\n"
     ]
    }
   ],
   "source": [
    "def RF(param_list,parameter):\n",
    "  train_acc = []\n",
    "  test_acc = []\n",
    "  for i in param_list :\n",
    "    if parameter==\"max_depth\" : \n",
    "      model = RandomForestClassifier(max_depth=i)\n",
    "    if parameter==\"n_estimators\": \n",
    "      model = RandomForestClassifier(n_estimators=i)\n",
    "    if parameter==\"min_samples_leaf\": \n",
    "      model = RandomForestClassifier(min_samples_leaf=i)\n",
    "      \n",
    "    model = model.fit(X_train, y_train)\n",
    "    ypred_test = model.predict(X_test)\n",
    "    ypred_train = model.predict(X_train)\n",
    "    train_acc.append(metrics.accuracy_score(y_train,ypred_train))\n",
    "    test_acc.append(metrics.accuracy_score(y_test,ypred_test))\n",
    "\n",
    "  \n",
    "  plt.plot(param_list, train_acc, label='Train', color='blue')\n",
    "  plt.plot(param_list, test_acc, label='Test', color='purple')\n",
    "  plt.xlabel(parameter)\n",
    "  plt.ylabel('accuracy')\n",
    "  plt.title('Random Forest')\n",
    "  plt.legend()\n",
    "  plt.show()\n",
    "  print(\"best accuracy is achived with\", parameter,\" = \",param_list[np.argmax(test_acc)],\"\\n\\n\")\n",
    "\n",
    "\n",
    "RF(list(range(1, 50, 2)), parameter=\"max_depth\")\n",
    "RF(list(range(1, 500, 25)), parameter=\"n_estimators\")\n",
    "RF(list(range(1, 50, 2)), parameter=\"min_samples_leaf\")"
   ]
  },
  {
   "cell_type": "code",
   "execution_count": 120,
   "metadata": {
    "colab": {
     "base_uri": "https://localhost:8080/",
     "height": 493
    },
    "id": "HUKtwG8TsYvt",
    "outputId": "d5973f12-f2a2-436c-94f4-ddfed1be74ee"
   },
   "outputs": [
    {
     "name": "stdout",
     "output_type": "stream",
     "text": [
      "Accuracy Test: 0.753247\n",
      "Precision Test: 0.754821\n",
      "Recall Test: 0.686869\n",
      "F1 score Test: 0.697727\n",
      "              precision    recall  f1-score   support\n",
      "\n",
      "           0       0.75      0.92      0.83        99\n",
      "           1       0.76      0.45      0.57        55\n",
      "\n",
      "    accuracy                           0.75       154\n",
      "   macro avg       0.75      0.69      0.70       154\n",
      "weighted avg       0.75      0.75      0.73       154\n",
      "\n"
     ]
    },
    {
     "data": {
      "image/png": "[encoded data removed]",
      "text/plain": [
       "<Figure size 432x288 with 2 Axes>"
      ]
     },
     "metadata": {
      "needs_background": "light"
     },
     "output_type": "display_data"
    }
   ],
   "source": [
    "model =RandomForestClassifier(max_depth=19, min_samples_leaf=23, n_estimators=401)\n",
    "model = model.fit(X_train, y_train)\n",
    "report(model, X_test, y_test)"
   ]
  },
  {
   "cell_type": "markdown",
   "metadata": {
    "id": "m8Rpmjqt0_ic"
   },
   "source": [
    "**2.** Decision trees have low bias because they try to overfit to the training data. Random forest also achive low bias because it uses some trees with low bias. But the difference is in variance, random forest uses some techniques to reduce variance in prediction. it is done by averaging trees with low correlation. "
   ]
  },
  {
   "cell_type": "code",
   "execution_count": 119,
   "metadata": {
    "id": "cRZ_Cf4i6h7o"
   },
   "outputs": [],
   "source": []
  }
 ],
 "metadata": {
  "colab": {
   "provenance": []
  },
  "kernelspec": {
   "display_name": "Python 3 (ipykernel)",
   "language": "python",
   "name": "python3"
  },
  "language_info": {
   "codemirror_mode": {
    "name": "ipython",
    "version": 3
   },
   "file_extension": ".py",
   "mimetype": "text/x-python",
   "name": "python",
   "nbconvert_exporter": "python",
   "pygments_lexer": "ipython3",
   "version": "3.9.12"
  }
 },
 "nbformat": 4,
 "nbformat_minor": 1
}
