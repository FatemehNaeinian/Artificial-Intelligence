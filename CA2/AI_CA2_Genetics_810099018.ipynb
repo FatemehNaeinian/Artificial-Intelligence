{
 "cells": [
  {
   "cell_type": "markdown",
   "id": "a794d583",
   "metadata": {},
   "source": [
    "#  AI Genetic\n",
    "## Name: Fatemeh Naeinian\n",
    "\n",
    "### Student ID: 810099018\n"
   ]
  },
  {
   "cell_type": "markdown",
   "id": "c97d2821",
   "metadata": {},
   "source": [
    "## Definition of project:\n",
    "In this project, with using a list of operators and opernads, we want to find a combination of them that by solving it our goal will be achieved.\n",
    "With a normal algorithm, it's almost impossible to find an answer, so we use genetic algorithm to reach the goal.\n"
   ]
  },
  {
   "cell_type": "code",
   "execution_count": 45,
   "id": "16a3c20f",
   "metadata": {},
   "outputs": [],
   "source": [
    "import random\n",
    "import numpy as np\n",
    "crossoverProbability = 0.5 \n",
    "carryPercentage = 0.1  \n",
    "populationSize = 300 "
   ]
  },
  {
   "cell_type": "markdown",
   "id": "dac85175",
   "metadata": {},
   "source": [
    "In EquationBuilder class we want to solve the problem with *genetic algorithm*. \n",
    "First operators, opernads, Length of the equation and goal number must be initialized.\n",
    "\n",
    "Then with makeFirstPopulation(), first group of answers are made randomly. Population size for all generations is equal to 300. In this function we use random library. \n",
    "\n",
    "Genetic algorithm find the solution by generating a new population. So this could be done by a loop. In this loop chromosoms are sorted by their fitnesses. this means that index 0 of the list is the best chromosome.\n",
    "\n",
    "*Fitness function* calculate absolute number of the difference between goal number and equation answer. So lower fitness is better!\n",
    "\n",
    "10% of the best chromosomes are carried directly to the next generation.\n",
    "\n",
    "With other 90% of the chromosomes we make a *mating pool* by using their fitnesses as probabilty.\n",
    "\n",
    "Mating pool is used to *cross over* two chromosomes. a random number between 0 and 1 is generated as probability, if this number was more than  crossoverProbability, cross over would be done by choosing two random chromosomes, find a random position and swap them in this position. \n",
    "\n",
    "The results of cross over will be *mutate*. a random number between 0 and 1 is generated as probability, if this number was less than 0.2, we find a random position and then with random.choice, value af the position will be replaced.\n",
    "\n",
    "\n"
   ]
  },
  {
   "cell_type": "code",
   "execution_count": 46,
   "id": "ae7f27c1",
   "metadata": {},
   "outputs": [],
   "source": [
    "\n",
    "class EquationBuilder:\n",
    "    \n",
    "    def __init__(self, operators, operands, equationLength, goalNumber):\n",
    "        self.operators = operators\n",
    "        self.operands = operands\n",
    "        self.equationLength = equationLength\n",
    "        self.goalNumber = goalNumber\n",
    "        self.population = self.makeFirstPopulation()\n",
    "        \n",
    "    def makeFirstPopulation(self):\n",
    "        FirstPopulation = []\n",
    "        for i in range(populationSize):\n",
    "            chrom = []\n",
    "            for j in range(self.equationLength):\n",
    "                if j%2 == 0:\n",
    "                    rand_idx = random.randrange(len(self.operands))\n",
    "                    chrom.append(self.operands[rand_idx])\n",
    "                else:\n",
    "                    rand_idx = random.randrange(len(self.operators))\n",
    "                    chrom.append(self.operators[rand_idx])\n",
    "            FirstPopulation.append(chrom)\n",
    "        return FirstPopulation\n",
    "        \n",
    "    def findEquation(self):\n",
    "        while (True):\n",
    "            random.shuffle(self.population)\n",
    "\n",
    "            fitnesses = []\n",
    "            for i in range(populationSize):\n",
    "                current_fitness = self.calcFitness(self.population[i])\n",
    "                fitnesses.append(current_fitness)\n",
    "                if current_fitness == 0:\n",
    "                    return self.population[i]\n",
    "                \n",
    "            bestChromosome = [x for _,x in sorted(zip(fitnesses,self.population))]\n",
    "\n",
    "            carriedChromosomes = []\n",
    "            for i in range(0, int(populationSize*carryPercentage)):\n",
    "                carriedChromosomes.append(bestChromosome[i]) \n",
    "\n",
    "            matingPool = self.createMatingPool(populationSize - int(populationSize * carryPercentage), fitnesses)\n",
    "\n",
    "            crossoverPool = self.createCrossoverPool(matingPool)\n",
    "\n",
    "            self.population.clear()\n",
    "\n",
    "            for i in range(populationSize - int(populationSize*carryPercentage)):\n",
    "                self.population.append(self.mutate(crossoverPool[i]))\n",
    "                \n",
    "            self.population.extend(carriedChromosomes)\n",
    "    \n",
    "    def createMatingPool(self, size, fitnesses):\n",
    "        probability = [(x / sum(fitnesses)) for x in fitnesses]\n",
    "        probability.reverse()\n",
    "        indices = np.random.choice(list(range(len(fitnesses))), size, p=probability)\n",
    "        matingPool = [self.population[i] for i in indices]\n",
    "        return matingPool\n",
    "    \n",
    "    def createCrossoverPool(self, matingPool):\n",
    "        crossoverPool = []\n",
    "        for i in range(len(matingPool)):\n",
    "            if random.random() > crossoverProbability:\n",
    "                crossoverPool.append(matingPool[i])\n",
    "            else:\n",
    "                rand_idx1 = random.randrange(len(matingPool))\n",
    "                rand_idx2 = random.randrange(len(matingPool))\n",
    "                crossover_point = random.randrange(self.equationLength)\n",
    "                crossover_result = matingPool[rand_idx1][:crossover_point]+matingPool[rand_idx2][crossover_point:]\n",
    "                crossoverPool.append(crossover_result)\n",
    "        return crossoverPool\n",
    "    \n",
    "    def mutate(self, chromosome):\n",
    "        for i in range(self.equationLength):\n",
    "            if random.random() < 0.2:\n",
    "                if i%2 == 0:\n",
    "                    chromosome[i] = random.choice(self.operands)\n",
    "                    chromosome[i] = random.choice(self.operands)\n",
    "                else:\n",
    "                    chromosome[i] = random.choice(self.operators)\n",
    "                    chromosome[i] = random.choice(self.operators)\n",
    "        return chromosome\n",
    "\n",
    "    def calcFitness(self, chromosome):\n",
    "        chromosome = [str(x) for x in chromosome]\n",
    "        chromosomeAmount = eval(''.join(chromosome))\n",
    "        fitness = abs(self.goalNumber - chromosomeAmount)\n",
    "        return fitness\n",
    "            "
   ]
  },
  {
   "cell_type": "code",
   "execution_count": 47,
   "id": "65f51023",
   "metadata": {},
   "outputs": [],
   "source": [
    "operands = [1, 2, 3, 4, 5, 6, 7, 8]\n",
    "operators = ['+', '-', '*']\n",
    "equationLength = 21\n",
    "goalNumber = 18019\n",
    "\n",
    "equationBuilder = EquationBuilder(operators, operands, equationLength, goalNumber)"
   ]
  },
  {
   "cell_type": "code",
   "execution_count": 48,
   "id": "2c957117",
   "metadata": {},
   "outputs": [
    {
     "name": "stdout",
     "output_type": "stream",
     "text": [
      "5+7*2*7-4+7*4*8*8*5*2 = 18019\n"
     ]
    }
   ],
   "source": [
    "equation = equationBuilder.findEquation()\n",
    "equation = [str(x) for x in equation]\n",
    "print(''.join(equation) , '=', eval(''.join(equation)))"
   ]
  },
  {
   "cell_type": "markdown",
   "id": "0dd255c6",
   "metadata": {},
   "source": [
    "# Questions\n",
    "\n",
    "1) If the polpulation size was large, it didn't help to find the solution faster, otherwise it increases the computational time and memory complexity. If the polpulation size was small, it got harder to find a solution because the chance of finding a solution between a small group is very little and it would be dependent to the first generation and the number of iterations would be significant.\n",
    "\n",
    "2) Increase of the population size does not improve the solution accuracy. Moreover, the computational time is increased significantly and the algorithm become slower.\n",
    "\n",
    "3) The effect of mutation is to generate new chromosomes using random abilities and to prevent getting stuck in local maximums or at least lower probability of it. Also cross over creates new chromosomes that are more likely to be better than their parents and keeps their features.\n",
    "As we see both of them are important. if we don't use mutation, it's possible not to reach goal and get stuck in hundreds of iterations because there is a kind of bias in chromosomes. \n",
    "Without cross over, the only possible thing is to mutate generation. With only mutation it's not possible to find answer, because with using mutation we will find another random solution and it doesn't ensure that it is a better solution and everything will be random. \n",
    "\n",
    "4) there are a lot of ways to make the algorithm faster.\n",
    "\n",
    "    * Early population is important.An early population with low dependency is better.\n",
    "    * In that code, cross over in one position is used, but cross over can be done in more positions.\n",
    "    * In that code, mutation in one position is used, but mutation can be done in more positions.\n",
    "    \n",
    "\n",
    "5) To prevent from getting stuck in a similar population, we can mutate chromosomes in more than one position, cross over more than two chromosomes in more than one position. for example mutation could be done in two random position and cross over chould be done with three chromosomes in three positions.\n",
    "\n",
    "6) We can consider a maximum iteration or time for the program. If program couldn't find a solution in that considered iterations or time, it would return the nearest solution to desired one. \n",
    "\n"
   ]
  },
  {
   "cell_type": "code",
   "execution_count": null,
   "id": "19585241",
   "metadata": {},
   "outputs": [],
   "source": []
  }
 ],
 "metadata": {
  "kernelspec": {
   "display_name": "Python 3 (ipykernel)",
   "language": "python",
   "name": "python3"
  },
  "language_info": {
   "codemirror_mode": {
    "name": "ipython",
    "version": 3
   },
   "file_extension": ".py",
   "mimetype": "text/x-python",
   "name": "python",
   "nbconvert_exporter": "python",
   "pygments_lexer": "ipython3",
   "version": "3.9.12"
  }
 },
 "nbformat": 4,
 "nbformat_minor": 5
}
